{
  "nbformat": 4,
  "nbformat_minor": 0,
  "metadata": {
    "colab": {
      "name": "FLINK_Standortplanung.ipynb",
      "provenance": [],
      "collapsed_sections": [],
      "mount_file_id": "1GCHysahB1_lB6N7BiDTVioT8pzw9D2Cx",
      "authorship_tag": "ABX9TyPjF4dfuyF59YP+EuHxDD6K",
      "include_colab_link": true
    },
    "kernelspec": {
      "name": "python3",
      "display_name": "Python 3"
    },
    "language_info": {
      "name": "python"
    }
  },
  "cells": [
    {
      "cell_type": "markdown",
      "metadata": {
        "id": "view-in-github",
        "colab_type": "text"
      },
      "source": [
        "<a href=\"https://colab.research.google.com/github/AlexKressner/Vorlesung-Intro-Operations-Research/blob/main/FLINK_Standortplanung.ipynb\" target=\"_parent\"><img src=\"https://colab.research.google.com/assets/colab-badge.svg\" alt=\"Open In Colab\"/></a>"
      ]
    },
    {
      "cell_type": "markdown",
      "metadata": {
        "id": "b2fc884d"
      },
      "source": [
        "# Fallstudie FLINK Standortplanung"
      ]
    },
    {
      "cell_type": "code",
      "execution_count": 1,
      "metadata": {
        "id": "cdb29647",
        "colab": {
          "base_uri": "https://localhost:8080/"
        },
        "outputId": "1285b62a-8d90-45c4-ca01-03800580dee3"
      },
      "outputs": [
        {
          "output_type": "stream",
          "name": "stdout",
          "text": [
            "Requirement already satisfied: pip in /usr/local/lib/python3.7/dist-packages (22.0.3)\n",
            "\u001b[33mWARNING: Running pip as the 'root' user can result in broken permissions and conflicting behaviour with the system package manager. It is recommended to use a virtual environment instead: https://pip.pypa.io/warnings/venv\u001b[0m\u001b[33m\n",
            "\u001b[0mRequirement already satisfied: ortools in /usr/local/lib/python3.7/dist-packages (9.2.9972)\n",
            "Requirement already satisfied: numpy>=1.13.3 in /usr/local/lib/python3.7/dist-packages (from ortools) (1.19.5)\n",
            "Requirement already satisfied: absl-py>=0.13 in /usr/local/lib/python3.7/dist-packages (from ortools) (1.0.0)\n",
            "Requirement already satisfied: protobuf>=3.19.1 in /usr/local/lib/python3.7/dist-packages (from ortools) (3.19.4)\n",
            "Requirement already satisfied: six in /usr/local/lib/python3.7/dist-packages (from absl-py>=0.13->ortools) (1.15.0)\n",
            "\u001b[33mWARNING: Running pip as the 'root' user can result in broken permissions and conflicting behaviour with the system package manager. It is recommended to use a virtual environment instead: https://pip.pypa.io/warnings/venv\u001b[0m\u001b[33m\n",
            "\u001b[0m"
          ]
        }
      ],
      "source": [
        "!pip install -U pip\n",
        "!pip install ortools\n",
        "from ortools.linear_solver import pywraplp\n",
        "import pandas as pd\n",
        "import numpy as np"
      ]
    },
    {
      "cell_type": "code",
      "execution_count": 2,
      "metadata": {
        "id": "d8c0c7cc"
      },
      "outputs": [],
      "source": [
        "# Solver mit SCIP als Backend.\n",
        "solver = pywraplp.Solver.CreateSolver('SCIP')"
      ]
    },
    {
      "cell_type": "markdown",
      "source": [
        "## Problemdaten laden"
      ],
      "metadata": {
        "id": "IGhpT2hOt5-e"
      }
    },
    {
      "cell_type": "markdown",
      "source": [
        "Dateien auf Drive hochladen und über Menü auf der Rechtenseite (\"Dateien\") freigeben!"
      ],
      "metadata": {
        "id": "iDN1Bva20Q8I"
      }
    },
    {
      "cell_type": "code",
      "source": [
        "nachfrage = pd.read_csv('drive/MyDrive/Fallstudie/Nachfrage.csv', sep=';',index_col=0)"
      ],
      "metadata": {
        "id": "tHgo_H-Rt7x-"
      },
      "execution_count": 3,
      "outputs": []
    },
    {
      "cell_type": "code",
      "source": [
        "nachfrage"
      ],
      "metadata": {
        "colab": {
          "base_uri": "https://localhost:8080/",
          "height": 452
        },
        "id": "jFX6d3ql1CQQ",
        "outputId": "2f718510-b967-4d60-a5a0-11fa42a2e153"
      },
      "execution_count": 4,
      "outputs": [
        {
          "output_type": "execute_result",
          "data": {
            "text/html": [
              "\n",
              "  <div id=\"df-67dcbd4d-7b56-42bc-8d37-cfd2d9b89936\">\n",
              "    <div class=\"colab-df-container\">\n",
              "      <div>\n",
              "<style scoped>\n",
              "    .dataframe tbody tr th:only-of-type {\n",
              "        vertical-align: middle;\n",
              "    }\n",
              "\n",
              "    .dataframe tbody tr th {\n",
              "        vertical-align: top;\n",
              "    }\n",
              "\n",
              "    .dataframe thead th {\n",
              "        text-align: right;\n",
              "    }\n",
              "</style>\n",
              "<table border=\"1\" class=\"dataframe\">\n",
              "  <thead>\n",
              "    <tr style=\"text-align: right;\">\n",
              "      <th></th>\n",
              "      <th>0</th>\n",
              "      <th>1</th>\n",
              "      <th>2</th>\n",
              "      <th>3</th>\n",
              "      <th>4</th>\n",
              "      <th>5</th>\n",
              "      <th>6</th>\n",
              "      <th>7</th>\n",
              "      <th>8</th>\n",
              "      <th>9</th>\n",
              "      <th>10</th>\n",
              "      <th>11</th>\n",
              "      <th>12</th>\n",
              "    </tr>\n",
              "  </thead>\n",
              "  <tbody>\n",
              "    <tr>\n",
              "      <th>0</th>\n",
              "      <td>7</td>\n",
              "      <td>91</td>\n",
              "      <td>34</td>\n",
              "      <td>77</td>\n",
              "      <td>33</td>\n",
              "      <td>47</td>\n",
              "      <td>43</td>\n",
              "      <td>51</td>\n",
              "      <td>81</td>\n",
              "      <td>28</td>\n",
              "      <td>88</td>\n",
              "      <td>74</td>\n",
              "      <td>81</td>\n",
              "    </tr>\n",
              "    <tr>\n",
              "      <th>1</th>\n",
              "      <td>73</td>\n",
              "      <td>82</td>\n",
              "      <td>76</td>\n",
              "      <td>51</td>\n",
              "      <td>80</td>\n",
              "      <td>42</td>\n",
              "      <td>83</td>\n",
              "      <td>19</td>\n",
              "      <td>37</td>\n",
              "      <td>37</td>\n",
              "      <td>85</td>\n",
              "      <td>18</td>\n",
              "      <td>67</td>\n",
              "    </tr>\n",
              "    <tr>\n",
              "      <th>2</th>\n",
              "      <td>85</td>\n",
              "      <td>57</td>\n",
              "      <td>67</td>\n",
              "      <td>14</td>\n",
              "      <td>1</td>\n",
              "      <td>92</td>\n",
              "      <td>41</td>\n",
              "      <td>32</td>\n",
              "      <td>16</td>\n",
              "      <td>83</td>\n",
              "      <td>65</td>\n",
              "      <td>39</td>\n",
              "      <td>18</td>\n",
              "    </tr>\n",
              "    <tr>\n",
              "      <th>3</th>\n",
              "      <td>42</td>\n",
              "      <td>87</td>\n",
              "      <td>23</td>\n",
              "      <td>56</td>\n",
              "      <td>15</td>\n",
              "      <td>99</td>\n",
              "      <td>60</td>\n",
              "      <td>85</td>\n",
              "      <td>90</td>\n",
              "      <td>68</td>\n",
              "      <td>9</td>\n",
              "      <td>63</td>\n",
              "      <td>88</td>\n",
              "    </tr>\n",
              "    <tr>\n",
              "      <th>4</th>\n",
              "      <td>23</td>\n",
              "      <td>93</td>\n",
              "      <td>36</td>\n",
              "      <td>65</td>\n",
              "      <td>96</td>\n",
              "      <td>31</td>\n",
              "      <td>8</td>\n",
              "      <td>54</td>\n",
              "      <td>27</td>\n",
              "      <td>74</td>\n",
              "      <td>59</td>\n",
              "      <td>70</td>\n",
              "      <td>36</td>\n",
              "    </tr>\n",
              "    <tr>\n",
              "      <th>5</th>\n",
              "      <td>2</td>\n",
              "      <td>71</td>\n",
              "      <td>34</td>\n",
              "      <td>38</td>\n",
              "      <td>62</td>\n",
              "      <td>45</td>\n",
              "      <td>86</td>\n",
              "      <td>95</td>\n",
              "      <td>93</td>\n",
              "      <td>12</td>\n",
              "      <td>83</td>\n",
              "      <td>59</td>\n",
              "      <td>17</td>\n",
              "    </tr>\n",
              "    <tr>\n",
              "      <th>6</th>\n",
              "      <td>31</td>\n",
              "      <td>41</td>\n",
              "      <td>54</td>\n",
              "      <td>1</td>\n",
              "      <td>97</td>\n",
              "      <td>73</td>\n",
              "      <td>5</td>\n",
              "      <td>73</td>\n",
              "      <td>44</td>\n",
              "      <td>93</td>\n",
              "      <td>94</td>\n",
              "      <td>2</td>\n",
              "      <td>56</td>\n",
              "    </tr>\n",
              "    <tr>\n",
              "      <th>7</th>\n",
              "      <td>61</td>\n",
              "      <td>44</td>\n",
              "      <td>86</td>\n",
              "      <td>1</td>\n",
              "      <td>69</td>\n",
              "      <td>65</td>\n",
              "      <td>32</td>\n",
              "      <td>95</td>\n",
              "      <td>61</td>\n",
              "      <td>39</td>\n",
              "      <td>7</td>\n",
              "      <td>61</td>\n",
              "      <td>31</td>\n",
              "    </tr>\n",
              "    <tr>\n",
              "      <th>8</th>\n",
              "      <td>59</td>\n",
              "      <td>49</td>\n",
              "      <td>1</td>\n",
              "      <td>70</td>\n",
              "      <td>86</td>\n",
              "      <td>26</td>\n",
              "      <td>62</td>\n",
              "      <td>40</td>\n",
              "      <td>96</td>\n",
              "      <td>82</td>\n",
              "      <td>3</td>\n",
              "      <td>20</td>\n",
              "      <td>83</td>\n",
              "    </tr>\n",
              "    <tr>\n",
              "      <th>9</th>\n",
              "      <td>10</td>\n",
              "      <td>38</td>\n",
              "      <td>37</td>\n",
              "      <td>77</td>\n",
              "      <td>16</td>\n",
              "      <td>94</td>\n",
              "      <td>34</td>\n",
              "      <td>67</td>\n",
              "      <td>96</td>\n",
              "      <td>64</td>\n",
              "      <td>32</td>\n",
              "      <td>30</td>\n",
              "      <td>63</td>\n",
              "    </tr>\n",
              "    <tr>\n",
              "      <th>10</th>\n",
              "      <td>56</td>\n",
              "      <td>35</td>\n",
              "      <td>21</td>\n",
              "      <td>89</td>\n",
              "      <td>28</td>\n",
              "      <td>60</td>\n",
              "      <td>90</td>\n",
              "      <td>21</td>\n",
              "      <td>65</td>\n",
              "      <td>25</td>\n",
              "      <td>68</td>\n",
              "      <td>73</td>\n",
              "      <td>43</td>\n",
              "    </tr>\n",
              "    <tr>\n",
              "      <th>11</th>\n",
              "      <td>35</td>\n",
              "      <td>91</td>\n",
              "      <td>9</td>\n",
              "      <td>32</td>\n",
              "      <td>25</td>\n",
              "      <td>86</td>\n",
              "      <td>41</td>\n",
              "      <td>41</td>\n",
              "      <td>52</td>\n",
              "      <td>4</td>\n",
              "      <td>28</td>\n",
              "      <td>65</td>\n",
              "      <td>24</td>\n",
              "    </tr>\n",
              "    <tr>\n",
              "      <th>12</th>\n",
              "      <td>13</td>\n",
              "      <td>10</td>\n",
              "      <td>17</td>\n",
              "      <td>42</td>\n",
              "      <td>61</td>\n",
              "      <td>37</td>\n",
              "      <td>52</td>\n",
              "      <td>66</td>\n",
              "      <td>10</td>\n",
              "      <td>13</td>\n",
              "      <td>15</td>\n",
              "      <td>72</td>\n",
              "      <td>83</td>\n",
              "    </tr>\n",
              "  </tbody>\n",
              "</table>\n",
              "</div>\n",
              "      <button class=\"colab-df-convert\" onclick=\"convertToInteractive('df-67dcbd4d-7b56-42bc-8d37-cfd2d9b89936')\"\n",
              "              title=\"Convert this dataframe to an interactive table.\"\n",
              "              style=\"display:none;\">\n",
              "        \n",
              "  <svg xmlns=\"http://www.w3.org/2000/svg\" height=\"24px\"viewBox=\"0 0 24 24\"\n",
              "       width=\"24px\">\n",
              "    <path d=\"M0 0h24v24H0V0z\" fill=\"none\"/>\n",
              "    <path d=\"M18.56 5.44l.94 2.06.94-2.06 2.06-.94-2.06-.94-.94-2.06-.94 2.06-2.06.94zm-11 1L8.5 8.5l.94-2.06 2.06-.94-2.06-.94L8.5 2.5l-.94 2.06-2.06.94zm10 10l.94 2.06.94-2.06 2.06-.94-2.06-.94-.94-2.06-.94 2.06-2.06.94z\"/><path d=\"M17.41 7.96l-1.37-1.37c-.4-.4-.92-.59-1.43-.59-.52 0-1.04.2-1.43.59L10.3 9.45l-7.72 7.72c-.78.78-.78 2.05 0 2.83L4 21.41c.39.39.9.59 1.41.59.51 0 1.02-.2 1.41-.59l7.78-7.78 2.81-2.81c.8-.78.8-2.07 0-2.86zM5.41 20L4 18.59l7.72-7.72 1.47 1.35L5.41 20z\"/>\n",
              "  </svg>\n",
              "      </button>\n",
              "      \n",
              "  <style>\n",
              "    .colab-df-container {\n",
              "      display:flex;\n",
              "      flex-wrap:wrap;\n",
              "      gap: 12px;\n",
              "    }\n",
              "\n",
              "    .colab-df-convert {\n",
              "      background-color: #E8F0FE;\n",
              "      border: none;\n",
              "      border-radius: 50%;\n",
              "      cursor: pointer;\n",
              "      display: none;\n",
              "      fill: #1967D2;\n",
              "      height: 32px;\n",
              "      padding: 0 0 0 0;\n",
              "      width: 32px;\n",
              "    }\n",
              "\n",
              "    .colab-df-convert:hover {\n",
              "      background-color: #E2EBFA;\n",
              "      box-shadow: 0px 1px 2px rgba(60, 64, 67, 0.3), 0px 1px 3px 1px rgba(60, 64, 67, 0.15);\n",
              "      fill: #174EA6;\n",
              "    }\n",
              "\n",
              "    [theme=dark] .colab-df-convert {\n",
              "      background-color: #3B4455;\n",
              "      fill: #D2E3FC;\n",
              "    }\n",
              "\n",
              "    [theme=dark] .colab-df-convert:hover {\n",
              "      background-color: #434B5C;\n",
              "      box-shadow: 0px 1px 3px 1px rgba(0, 0, 0, 0.15);\n",
              "      filter: drop-shadow(0px 1px 2px rgba(0, 0, 0, 0.3));\n",
              "      fill: #FFFFFF;\n",
              "    }\n",
              "  </style>\n",
              "\n",
              "      <script>\n",
              "        const buttonEl =\n",
              "          document.querySelector('#df-67dcbd4d-7b56-42bc-8d37-cfd2d9b89936 button.colab-df-convert');\n",
              "        buttonEl.style.display =\n",
              "          google.colab.kernel.accessAllowed ? 'block' : 'none';\n",
              "\n",
              "        async function convertToInteractive(key) {\n",
              "          const element = document.querySelector('#df-67dcbd4d-7b56-42bc-8d37-cfd2d9b89936');\n",
              "          const dataTable =\n",
              "            await google.colab.kernel.invokeFunction('convertToInteractive',\n",
              "                                                     [key], {});\n",
              "          if (!dataTable) return;\n",
              "\n",
              "          const docLinkHtml = 'Like what you see? Visit the ' +\n",
              "            '<a target=\"_blank\" href=https://colab.research.google.com/notebooks/data_table.ipynb>data table notebook</a>'\n",
              "            + ' to learn more about interactive tables.';\n",
              "          element.innerHTML = '';\n",
              "          dataTable['output_type'] = 'display_data';\n",
              "          await google.colab.output.renderOutput(dataTable, element);\n",
              "          const docLink = document.createElement('div');\n",
              "          docLink.innerHTML = docLinkHtml;\n",
              "          element.appendChild(docLink);\n",
              "        }\n",
              "      </script>\n",
              "    </div>\n",
              "  </div>\n",
              "  "
            ],
            "text/plain": [
              "     0   1   2   3   4   5   6   7   8   9  10  11  12\n",
              "0    7  91  34  77  33  47  43  51  81  28  88  74  81\n",
              "1   73  82  76  51  80  42  83  19  37  37  85  18  67\n",
              "2   85  57  67  14   1  92  41  32  16  83  65  39  18\n",
              "3   42  87  23  56  15  99  60  85  90  68   9  63  88\n",
              "4   23  93  36  65  96  31   8  54  27  74  59  70  36\n",
              "5    2  71  34  38  62  45  86  95  93  12  83  59  17\n",
              "6   31  41  54   1  97  73   5  73  44  93  94   2  56\n",
              "7   61  44  86   1  69  65  32  95  61  39   7  61  31\n",
              "8   59  49   1  70  86  26  62  40  96  82   3  20  83\n",
              "9   10  38  37  77  16  94  34  67  96  64  32  30  63\n",
              "10  56  35  21  89  28  60  90  21  65  25  68  73  43\n",
              "11  35  91   9  32  25  86  41  41  52   4  28  65  24\n",
              "12  13  10  17  42  61  37  52  66  10  13  15  72  83"
            ]
          },
          "metadata": {},
          "execution_count": 4
        }
      ]
    },
    {
      "cell_type": "code",
      "source": [
        "standorte = pd.read_csv('drive/MyDrive/Fallstudie//Standorte.csv', sep=';',index_col=0)"
      ],
      "metadata": {
        "id": "sq5yC9C9xe8M"
      },
      "execution_count": 5,
      "outputs": []
    },
    {
      "cell_type": "code",
      "source": [
        "standorte"
      ],
      "metadata": {
        "colab": {
          "base_uri": "https://localhost:8080/",
          "height": 390
        },
        "id": "PD_GjOfh1ES-",
        "outputId": "1dd80391-2c11-403d-b8ad-e7d3dc2710e9"
      },
      "execution_count": 6,
      "outputs": [
        {
          "output_type": "execute_result",
          "data": {
            "text/html": [
              "\n",
              "  <div id=\"df-19589e66-f42e-4d73-a37a-b434cb709686\">\n",
              "    <div class=\"colab-df-container\">\n",
              "      <div>\n",
              "<style scoped>\n",
              "    .dataframe tbody tr th:only-of-type {\n",
              "        vertical-align: middle;\n",
              "    }\n",
              "\n",
              "    .dataframe tbody tr th {\n",
              "        vertical-align: top;\n",
              "    }\n",
              "\n",
              "    .dataframe thead th {\n",
              "        text-align: right;\n",
              "    }\n",
              "</style>\n",
              "<table border=\"1\" class=\"dataframe\">\n",
              "  <thead>\n",
              "    <tr style=\"text-align: right;\">\n",
              "      <th></th>\n",
              "      <th>i_Koordinate</th>\n",
              "      <th>j_Koordinate</th>\n",
              "      <th>Kapazitaet</th>\n",
              "      <th>Kosten</th>\n",
              "    </tr>\n",
              "    <tr>\n",
              "      <th>Standorte</th>\n",
              "      <th></th>\n",
              "      <th></th>\n",
              "      <th></th>\n",
              "      <th></th>\n",
              "    </tr>\n",
              "  </thead>\n",
              "  <tbody>\n",
              "    <tr>\n",
              "      <th>0</th>\n",
              "      <td>1</td>\n",
              "      <td>0</td>\n",
              "      <td>500</td>\n",
              "      <td>100000</td>\n",
              "    </tr>\n",
              "    <tr>\n",
              "      <th>1</th>\n",
              "      <td>8</td>\n",
              "      <td>11</td>\n",
              "      <td>600</td>\n",
              "      <td>90000</td>\n",
              "    </tr>\n",
              "    <tr>\n",
              "      <th>2</th>\n",
              "      <td>10</td>\n",
              "      <td>4</td>\n",
              "      <td>500</td>\n",
              "      <td>95000</td>\n",
              "    </tr>\n",
              "    <tr>\n",
              "      <th>3</th>\n",
              "      <td>10</td>\n",
              "      <td>10</td>\n",
              "      <td>750</td>\n",
              "      <td>101000</td>\n",
              "    </tr>\n",
              "    <tr>\n",
              "      <th>4</th>\n",
              "      <td>13</td>\n",
              "      <td>6</td>\n",
              "      <td>725</td>\n",
              "      <td>98500</td>\n",
              "    </tr>\n",
              "    <tr>\n",
              "      <th>5</th>\n",
              "      <td>4</td>\n",
              "      <td>8</td>\n",
              "      <td>750</td>\n",
              "      <td>97500</td>\n",
              "    </tr>\n",
              "    <tr>\n",
              "      <th>6</th>\n",
              "      <td>13</td>\n",
              "      <td>7</td>\n",
              "      <td>455</td>\n",
              "      <td>105000</td>\n",
              "    </tr>\n",
              "    <tr>\n",
              "      <th>7</th>\n",
              "      <td>4</td>\n",
              "      <td>6</td>\n",
              "      <td>3000</td>\n",
              "      <td>225000</td>\n",
              "    </tr>\n",
              "    <tr>\n",
              "      <th>8</th>\n",
              "      <td>12</td>\n",
              "      <td>6</td>\n",
              "      <td>1400</td>\n",
              "      <td>300000</td>\n",
              "    </tr>\n",
              "    <tr>\n",
              "      <th>9</th>\n",
              "      <td>4</td>\n",
              "      <td>4</td>\n",
              "      <td>2250</td>\n",
              "      <td>200000</td>\n",
              "    </tr>\n",
              "  </tbody>\n",
              "</table>\n",
              "</div>\n",
              "      <button class=\"colab-df-convert\" onclick=\"convertToInteractive('df-19589e66-f42e-4d73-a37a-b434cb709686')\"\n",
              "              title=\"Convert this dataframe to an interactive table.\"\n",
              "              style=\"display:none;\">\n",
              "        \n",
              "  <svg xmlns=\"http://www.w3.org/2000/svg\" height=\"24px\"viewBox=\"0 0 24 24\"\n",
              "       width=\"24px\">\n",
              "    <path d=\"M0 0h24v24H0V0z\" fill=\"none\"/>\n",
              "    <path d=\"M18.56 5.44l.94 2.06.94-2.06 2.06-.94-2.06-.94-.94-2.06-.94 2.06-2.06.94zm-11 1L8.5 8.5l.94-2.06 2.06-.94-2.06-.94L8.5 2.5l-.94 2.06-2.06.94zm10 10l.94 2.06.94-2.06 2.06-.94-2.06-.94-.94-2.06-.94 2.06-2.06.94z\"/><path d=\"M17.41 7.96l-1.37-1.37c-.4-.4-.92-.59-1.43-.59-.52 0-1.04.2-1.43.59L10.3 9.45l-7.72 7.72c-.78.78-.78 2.05 0 2.83L4 21.41c.39.39.9.59 1.41.59.51 0 1.02-.2 1.41-.59l7.78-7.78 2.81-2.81c.8-.78.8-2.07 0-2.86zM5.41 20L4 18.59l7.72-7.72 1.47 1.35L5.41 20z\"/>\n",
              "  </svg>\n",
              "      </button>\n",
              "      \n",
              "  <style>\n",
              "    .colab-df-container {\n",
              "      display:flex;\n",
              "      flex-wrap:wrap;\n",
              "      gap: 12px;\n",
              "    }\n",
              "\n",
              "    .colab-df-convert {\n",
              "      background-color: #E8F0FE;\n",
              "      border: none;\n",
              "      border-radius: 50%;\n",
              "      cursor: pointer;\n",
              "      display: none;\n",
              "      fill: #1967D2;\n",
              "      height: 32px;\n",
              "      padding: 0 0 0 0;\n",
              "      width: 32px;\n",
              "    }\n",
              "\n",
              "    .colab-df-convert:hover {\n",
              "      background-color: #E2EBFA;\n",
              "      box-shadow: 0px 1px 2px rgba(60, 64, 67, 0.3), 0px 1px 3px 1px rgba(60, 64, 67, 0.15);\n",
              "      fill: #174EA6;\n",
              "    }\n",
              "\n",
              "    [theme=dark] .colab-df-convert {\n",
              "      background-color: #3B4455;\n",
              "      fill: #D2E3FC;\n",
              "    }\n",
              "\n",
              "    [theme=dark] .colab-df-convert:hover {\n",
              "      background-color: #434B5C;\n",
              "      box-shadow: 0px 1px 3px 1px rgba(0, 0, 0, 0.15);\n",
              "      filter: drop-shadow(0px 1px 2px rgba(0, 0, 0, 0.3));\n",
              "      fill: #FFFFFF;\n",
              "    }\n",
              "  </style>\n",
              "\n",
              "      <script>\n",
              "        const buttonEl =\n",
              "          document.querySelector('#df-19589e66-f42e-4d73-a37a-b434cb709686 button.colab-df-convert');\n",
              "        buttonEl.style.display =\n",
              "          google.colab.kernel.accessAllowed ? 'block' : 'none';\n",
              "\n",
              "        async function convertToInteractive(key) {\n",
              "          const element = document.querySelector('#df-19589e66-f42e-4d73-a37a-b434cb709686');\n",
              "          const dataTable =\n",
              "            await google.colab.kernel.invokeFunction('convertToInteractive',\n",
              "                                                     [key], {});\n",
              "          if (!dataTable) return;\n",
              "\n",
              "          const docLinkHtml = 'Like what you see? Visit the ' +\n",
              "            '<a target=\"_blank\" href=https://colab.research.google.com/notebooks/data_table.ipynb>data table notebook</a>'\n",
              "            + ' to learn more about interactive tables.';\n",
              "          element.innerHTML = '';\n",
              "          dataTable['output_type'] = 'display_data';\n",
              "          await google.colab.output.renderOutput(dataTable, element);\n",
              "          const docLink = document.createElement('div');\n",
              "          docLink.innerHTML = docLinkHtml;\n",
              "          element.appendChild(docLink);\n",
              "        }\n",
              "      </script>\n",
              "    </div>\n",
              "  </div>\n",
              "  "
            ],
            "text/plain": [
              "           i_Koordinate  j_Koordinate  Kapazitaet  Kosten\n",
              "Standorte                                                \n",
              "0                     1             0         500  100000\n",
              "1                     8            11         600   90000\n",
              "2                    10             4         500   95000\n",
              "3                    10            10         750  101000\n",
              "4                    13             6         725   98500\n",
              "5                     4             8         750   97500\n",
              "6                    13             7         455  105000\n",
              "7                     4             6        3000  225000\n",
              "8                    12             6        1400  300000\n",
              "9                     4             4        2250  200000"
            ]
          },
          "metadata": {},
          "execution_count": 6
        }
      ]
    },
    {
      "cell_type": "markdown",
      "metadata": {
        "id": "798a67ee"
      },
      "source": [
        "## Indexmengen"
      ]
    },
    {
      "cell_type": "code",
      "execution_count": 7,
      "metadata": {
        "id": "a8aba4aa"
      },
      "outputs": [],
      "source": [
        "anzahl_standorte = standorte.shape[0]\n",
        "anzahl_quadranten_dim_i = nachfrage.shape[0]\n",
        "anzahl_quadranten_dim_j = nachfrage.shape[1]"
      ]
    },
    {
      "cell_type": "code",
      "execution_count": 8,
      "metadata": {
        "id": "f9e0fd6f"
      },
      "outputs": [],
      "source": [
        "K = [s for s in range(standorte.shape[0])] # Menge der potentiellen Standorte für Dark Stores\n",
        "I = [i for i in range(nachfrage.shape[0])] # Indexmenge der Quadranten in Dimension i\n",
        "J = [j for j in range(nachfrage.shape[1])] # Indexmenge der Quadranten in Dimension j"
      ]
    },
    {
      "cell_type": "code",
      "source": [
        "# Standorte der Stores\n",
        "S=standorte.drop(columns=['Kapazitaet','Kosten']).to_numpy()\n",
        "S"
      ],
      "metadata": {
        "colab": {
          "base_uri": "https://localhost:8080/"
        },
        "id": "KbJMZXAr15oE",
        "outputId": "4c1d5e98-59e5-4f0e-c9f8-2c0162f64882"
      },
      "execution_count": 9,
      "outputs": [
        {
          "output_type": "execute_result",
          "data": {
            "text/plain": [
              "array([[ 1,  0],\n",
              "       [ 8, 11],\n",
              "       [10,  4],\n",
              "       [10, 10],\n",
              "       [13,  6],\n",
              "       [ 4,  8],\n",
              "       [13,  7],\n",
              "       [ 4,  6],\n",
              "       [12,  6],\n",
              "       [ 4,  4]])"
            ]
          },
          "metadata": {},
          "execution_count": 9
        }
      ]
    },
    {
      "cell_type": "markdown",
      "metadata": {
        "id": "8240a5ce"
      },
      "source": [
        "## Parameter"
      ]
    },
    {
      "cell_type": "code",
      "source": [
        "# Nachfrage\n",
        "d = nachfrage.to_numpy()"
      ],
      "metadata": {
        "id": "HN3E-xXZ9GSF"
      },
      "execution_count": 10,
      "outputs": []
    },
    {
      "cell_type": "code",
      "source": [
        "cap = standorte.Kapazitaet.to_numpy()"
      ],
      "metadata": {
        "id": "LePGJlKI_6jr"
      },
      "execution_count": 11,
      "outputs": []
    },
    {
      "cell_type": "code",
      "source": [
        "c = standorte.Kosten.to_numpy()"
      ],
      "metadata": {
        "id": "fgtMRY1CATc7"
      },
      "execution_count": 12,
      "outputs": []
    },
    {
      "cell_type": "code",
      "execution_count": 13,
      "metadata": {
        "id": "6f7e4e1f"
      },
      "outputs": [],
      "source": [
        "# Budget zur Errichtung neuer Dark Stores\n",
        "B = 1000000"
      ]
    },
    {
      "cell_type": "code",
      "execution_count": 14,
      "metadata": {
        "id": "0d701db9"
      },
      "outputs": [],
      "source": [
        "# Maximale Distanz in Anzahl Quadranten\n",
        "max_lieferzeit = 5"
      ]
    },
    {
      "cell_type": "code",
      "execution_count": 15,
      "metadata": {
        "id": "edc542b4"
      },
      "outputs": [],
      "source": [
        "dist={}\n",
        "for k in K:\n",
        "    for i in I:\n",
        "        for j in J:\n",
        "            dist[k,i,j] = abs(i-S[k][0])+abs(j-S[k][1])"
      ]
    },
    {
      "cell_type": "markdown",
      "metadata": {
        "id": "d1f9cf18"
      },
      "source": [
        "## Entscheidungsvariablen"
      ]
    },
    {
      "cell_type": "code",
      "execution_count": 16,
      "metadata": {
        "id": "afb847d3"
      },
      "outputs": [],
      "source": [
        "# Entscheidungsvariablen zum Öffnen von Dark Stores\n",
        "# y[k]=1 -> Dark Store k öffnen\n",
        "# y[k]=0 -> Dark Store k nicht öffnen\n",
        "y={}\n",
        "for k in K: \n",
        "    y[k] = solver.BoolVar(f'{k}')"
      ]
    },
    {
      "cell_type": "code",
      "execution_count": 17,
      "metadata": {
        "id": "e91678ca"
      },
      "outputs": [],
      "source": [
        "# Entscheidungsvariablen, die festlegt, welcher Nachfragequadrant von welchem Dark Store beliefert wird\n",
        "# x[i,j,k]=1 -> Nachfragequadrant (i,j) wird von Dark Store k beliefert\n",
        "# x[i,j,k]=0 -> Nachfragequadrant (i,j) wird nicht von Dark Store k beliefert\n",
        "x={}\n",
        "for k in K:\n",
        "    for i in I:\n",
        "        for j in J:\n",
        "            x[i,j,k] = solver.BoolVar(f'{i,j,k}')"
      ]
    },
    {
      "cell_type": "code",
      "execution_count": 18,
      "metadata": {
        "id": "f87ceb27",
        "outputId": "c25f4292-650a-40af-c08d-10573c11a31f",
        "colab": {
          "base_uri": "https://localhost:8080/"
        }
      },
      "outputs": [
        {
          "output_type": "stream",
          "name": "stdout",
          "text": [
            "Anzahl Entscheidungsvariablen = 1700\n"
          ]
        }
      ],
      "source": [
        "print('Anzahl Entscheidungsvariablen =', solver.NumVariables())"
      ]
    },
    {
      "cell_type": "markdown",
      "metadata": {
        "id": "c9eede10"
      },
      "source": [
        "## Zielfunktion"
      ]
    },
    {
      "cell_type": "code",
      "execution_count": 19,
      "metadata": {
        "id": "954d02bf"
      },
      "outputs": [],
      "source": [
        "# Maximiere die Anzahl bedienter Bestellungen\n",
        "solver.Maximize(sum(d[i][j]*x[i,j,k] for k in K for i in I for j in J))"
      ]
    },
    {
      "cell_type": "markdown",
      "metadata": {
        "id": "a8534816"
      },
      "source": [
        "## Nebenbedingungen"
      ]
    },
    {
      "cell_type": "code",
      "execution_count": 20,
      "metadata": {
        "id": "9accd7c3"
      },
      "outputs": [],
      "source": [
        "# Die Lagerkapazitäten der Stores müssen eingehalten werden\n",
        "for k in K:\n",
        "    solver.Add(sum(d[i][j]*x[i,j,k] for i in I for j in J)<=cap[k]*y[k])"
      ]
    },
    {
      "cell_type": "code",
      "execution_count": 21,
      "metadata": {
        "id": "255aae69",
        "outputId": "1684446e-fc85-42a3-e0c0-dbc8e4a56f16",
        "colab": {
          "base_uri": "https://localhost:8080/"
        }
      },
      "outputs": [
        {
          "output_type": "execute_result",
          "data": {
            "text/plain": [
              "<ortools.linear_solver.pywraplp.Constraint; proxy of <Swig Object of type 'operations_research::MPConstraint *' at 0x7f7047702f60> >"
            ]
          },
          "metadata": {},
          "execution_count": 21
        }
      ],
      "source": [
        "# Das zur Verfügung stehende Budget darf nicht überschritten werden\n",
        "solver.Add(sum(c[k]*y[k] for k in K)<=B)"
      ]
    },
    {
      "cell_type": "code",
      "execution_count": 22,
      "metadata": {
        "id": "22c5e7e5"
      },
      "outputs": [],
      "source": [
        "# Ein Nachfragequadrant darf nur von einem Store bedient werden\n",
        "for i in I:\n",
        "    for j in J:\n",
        "        solver.Add(sum(x[i,j,k] for k in K)<=1)"
      ]
    },
    {
      "cell_type": "code",
      "source": [
        "dist[0,0,0]"
      ],
      "metadata": {
        "colab": {
          "base_uri": "https://localhost:8080/"
        },
        "id": "icbvxdulA2RW",
        "outputId": "b597dc68-bd34-4d86-a539-4124de4450d4"
      },
      "execution_count": 23,
      "outputs": [
        {
          "output_type": "execute_result",
          "data": {
            "text/plain": [
              "1"
            ]
          },
          "metadata": {},
          "execution_count": 23
        }
      ]
    },
    {
      "cell_type": "code",
      "execution_count": 24,
      "metadata": {
        "id": "8aa9b142"
      },
      "outputs": [],
      "source": [
        "# Maximale Lieferzeit\n",
        "for k in K:\n",
        "    for i in I:\n",
        "        for j in J:\n",
        "            solver.Add(dist[k,i,j]*x[i,j,k] <= max_lieferzeit)"
      ]
    },
    {
      "cell_type": "code",
      "execution_count": 25,
      "metadata": {
        "id": "4230c9a8",
        "colab": {
          "base_uri": "https://localhost:8080/"
        },
        "outputId": "09d0b967-4acc-4847-f15b-9b851cc64114"
      },
      "outputs": [
        {
          "output_type": "stream",
          "name": "stdout",
          "text": [
            "Anzahl Nebenbedingungen = 1870\n"
          ]
        }
      ],
      "source": [
        "print('Anzahl Nebenbedingungen =', solver.NumConstraints())"
      ]
    },
    {
      "cell_type": "markdown",
      "metadata": {
        "id": "9a459618"
      },
      "source": [
        "## Berechnung Lösung"
      ]
    },
    {
      "cell_type": "code",
      "execution_count": 26,
      "metadata": {
        "id": "52c8aefa"
      },
      "outputs": [],
      "source": [
        "status = solver.Solve()"
      ]
    },
    {
      "cell_type": "code",
      "execution_count": 27,
      "metadata": {
        "id": "b9005832",
        "colab": {
          "base_uri": "https://localhost:8080/"
        },
        "outputId": "221778b5-a71b-4501-b38e-71cc6712fc25"
      },
      "outputs": [
        {
          "output_type": "stream",
          "name": "stdout",
          "text": [
            "LÖSUNG:\n",
            "Bediente Nachfrage [Anzahl Bestellungen] = 7482\n",
            "Bediente Nachfrage [%] = 0.8702023726448012\n",
            "0 = 0.0\n",
            "1 = 1.0\n",
            "2 = 1.0\n",
            "3 = 1.0\n",
            "4 = 1.0\n",
            "5 = 1.0\n",
            "6 = 0.0\n",
            "7 = 1.0\n",
            "8 = 0.0\n",
            "9 = 1.0\n",
            "Investionen [€] = 907000.0\n"
          ]
        }
      ],
      "source": [
        "if status == pywraplp.Solver.OPTIMAL:\n",
        "    zielfunktionswert = round(solver.Objective().Value())\n",
        "    print('LÖSUNG:')\n",
        "    print('Bediente Nachfrage [Anzahl Bestellungen] =', zielfunktionswert)\n",
        "    print('Bediente Nachfrage [%] =', zielfunktionswert/np.sum(d))\n",
        "    invest = 0\n",
        "    for k in K:\n",
        "        print(f'{k} =', y[k].solution_value())\n",
        "        if y[k].solution_value()>0.0:\n",
        "            invest += y[k].solution_value()*c[k]\n",
        "    print('Investionen [€] =', invest)\n",
        "else:\n",
        "    print('Problem hat keine Lösung')"
      ]
    },
    {
      "cell_type": "code",
      "source": [
        ""
      ],
      "metadata": {
        "id": "ewVTUCtWBFEO"
      },
      "execution_count": 27,
      "outputs": []
    }
  ]
}