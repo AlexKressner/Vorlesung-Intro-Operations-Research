{
  "nbformat": 4,
  "nbformat_minor": 0,
  "metadata": {
    "colab": {
      "name": "Mischungsproblem.ipynb",
      "provenance": [],
      "collapsed_sections": [],
      "authorship_tag": "ABX9TyN8UOLKz92rQe5QQ5bTFaa6",
      "include_colab_link": true
    },
    "kernelspec": {
      "name": "python3",
      "display_name": "Python 3"
    },
    "language_info": {
      "name": "python"
    }
  },
  "cells": [
    {
      "cell_type": "markdown",
      "metadata": {
        "id": "view-in-github",
        "colab_type": "text"
      },
      "source": [
        "<a href=\"https://colab.research.google.com/github/AlexKressner/Vorlesung-Intro-Operations-Research/blob/main/Mischungsproblem.ipynb\" target=\"_parent\"><img src=\"https://colab.research.google.com/assets/colab-badge.svg\" alt=\"Open In Colab\"/></a>"
      ]
    },
    {
      "cell_type": "code",
      "execution_count": null,
      "metadata": {
        "id": "Q_AzCam8ab8g"
      },
      "outputs": [],
      "source": [
        "!pip install -U pip\n",
        "!pip install ortools\n",
        "from ortools.linear_solver import pywraplp"
      ]
    },
    {
      "cell_type": "code",
      "source": [
        "# Solver mit SCIP als Backend.\n",
        "solver = pywraplp.Solver.CreateSolver('SCIP')"
      ],
      "metadata": {
        "id": "JXC0-LdtaqBH"
      },
      "execution_count": null,
      "outputs": []
    },
    {
      "cell_type": "markdown",
      "source": [
        "# Indexmengen\n"
      ],
      "metadata": {
        "id": "MLeyALcddKVW"
      }
    },
    {
      "cell_type": "code",
      "source": [
        "J = ['S1','S2'] # Menge der Futtersorten\n",
        "I = ['Nährstoff_I','Nährstoff_II','Nährstoff_III'] # Menge der Nährstoffe"
      ],
      "metadata": {
        "id": "kvtWWb0-dHtj"
      },
      "execution_count": null,
      "outputs": []
    },
    {
      "cell_type": "markdown",
      "source": [
        "# Parameter"
      ],
      "metadata": {
        "id": "TRDI52mgdgvD"
      }
    },
    {
      "cell_type": "code",
      "source": [
        "c={} # Preise\n",
        "c['S1']=5\n",
        "c['S2']=8"
      ],
      "metadata": {
        "id": "WZU_AaNldkBq"
      },
      "execution_count": null,
      "outputs": []
    },
    {
      "cell_type": "code",
      "source": [
        "a={} # Produktionskoeffizienten\n",
        "a['Nährstoff_I']={'S1':2,'S2':1}\n",
        "a['Nährstoff_II']={'S1':2,'S2':4}\n",
        "a['Nährstoff_III']={'S1':0,'S2':4}"
      ],
      "metadata": {
        "id": "lgNaioU-dnCz"
      },
      "execution_count": null,
      "outputs": []
    },
    {
      "cell_type": "code",
      "source": [
        "b={} # Mindestmengen Nährstoffe\n",
        "b['Nährstoff_I']=6\n",
        "b['Nährstoff_II']=10\n",
        "b['Nährstoff_III']=4"
      ],
      "metadata": {
        "id": "XcT9rl0Ado13"
      },
      "execution_count": null,
      "outputs": []
    },
    {
      "cell_type": "markdown",
      "source": [
        "# Entscheidungsvariablen"
      ],
      "metadata": {
        "id": "yo2nDJC3dtMt"
      }
    },
    {
      "cell_type": "code",
      "source": [
        "infinity = solver.infinity()"
      ],
      "metadata": {
        "id": "ZSqTnp7PdqNC"
      },
      "execution_count": null,
      "outputs": []
    },
    {
      "cell_type": "code",
      "source": [
        "x={}\n",
        "for j in J: \n",
        "    x[j] = solver.NumVar(0.0, infinity, j)\n",
        "print('Anzahl Entscheidungsvariablen =', solver.NumVariables())"
      ],
      "metadata": {
        "id": "PNPl0M25dxxv"
      },
      "execution_count": null,
      "outputs": []
    },
    {
      "cell_type": "markdown",
      "source": [
        "# Zielfunktion"
      ],
      "metadata": {
        "id": "ZfiO1j_kd1UR"
      }
    },
    {
      "cell_type": "code",
      "source": [
        "solver.Minimize(sum(c[j]*x[j] for j in J))"
      ],
      "metadata": {
        "id": "uq8cbvJ4dzwx"
      },
      "execution_count": null,
      "outputs": []
    },
    {
      "cell_type": "markdown",
      "source": [
        "# Nebenbedingungen"
      ],
      "metadata": {
        "id": "ehWbmT6Md6eN"
      }
    },
    {
      "cell_type": "code",
      "source": [
        "for i in I:\n",
        "    solver.Add(sum(a[i][j]*x[j] for j in J)>=b[i])\n",
        "print('Anzahl Nebenbedingungen =', solver.NumConstraints())"
      ],
      "metadata": {
        "id": "9Oz1rjYdd5OJ"
      },
      "execution_count": null,
      "outputs": []
    },
    {
      "cell_type": "markdown",
      "source": [
        "# Berechnung Lösung"
      ],
      "metadata": {
        "id": "l6Rnxon_d_X8"
      }
    },
    {
      "cell_type": "code",
      "source": [
        "status = solver.Solve()\n",
        "\n",
        "if status == pywraplp.Solver.OPTIMAL:\n",
        "    print('LÖSUNG:')\n",
        "    print('Zielfunktionswert (Deckungsbeitrag) =', solver.Objective().Value())\n",
        "    for j in J:\n",
        "        print(f'{j} =', round(x[j].solution_value()))\n",
        "else:\n",
        "    print('Problem hat keine Lösung')"
      ],
      "metadata": {
        "id": "BGPwOTq5d-Ba"
      },
      "execution_count": null,
      "outputs": []
    },
    {
      "cell_type": "code",
      "source": [
        ""
      ],
      "metadata": {
        "id": "YnVGAy94eCO6"
      },
      "execution_count": null,
      "outputs": []
    }
  ]
}