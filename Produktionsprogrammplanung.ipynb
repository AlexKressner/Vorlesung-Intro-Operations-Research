{
  "cells": [
    {
      "cell_type": "markdown",
      "metadata": {
        "id": "view-in-github",
        "colab_type": "text"
      },
      "source": [
        "<a href=\"https://colab.research.google.com/github/AlexKressner/Vorlesung-Intro-Operations-Research/blob/main/Produktionsprogrammplanung.ipynb\" target=\"_parent\"><img src=\"https://colab.research.google.com/assets/colab-badge.svg\" alt=\"Open In Colab\"/></a>"
      ]
    },
    {
      "cell_type": "markdown",
      "id": "b2fc884d",
      "metadata": {
        "id": "b2fc884d"
      },
      "source": [
        "# Produktionsplanungsproblem"
      ]
    },
    {
      "cell_type": "code",
      "execution_count": null,
      "id": "cdb29647",
      "metadata": {
        "id": "cdb29647"
      },
      "outputs": [],
      "source": [
        "!pip install -U pip\n",
        "!pip install ortools\n",
        "from ortools.linear_solver import pywraplp"
      ]
    },
    {
      "cell_type": "code",
      "execution_count": null,
      "id": "d8c0c7cc",
      "metadata": {
        "id": "d8c0c7cc"
      },
      "outputs": [],
      "source": [
        "# Solver mit SCIP als Backend.\n",
        "solver = pywraplp.Solver.CreateSolver('SCIP')"
      ]
    },
    {
      "cell_type": "markdown",
      "id": "798a67ee",
      "metadata": {
        "id": "798a67ee"
      },
      "source": [
        "## Indexmengen"
      ]
    },
    {
      "cell_type": "code",
      "execution_count": null,
      "id": "f9e0fd6f",
      "metadata": {
        "id": "f9e0fd6f"
      },
      "outputs": [],
      "source": [
        "J = ['P1','P2'] # Menge der Produkte\n",
        "I = ['Maschinen','Rohstoffe','Montage'] # Menge der Produktionsressourcen"
      ]
    },
    {
      "cell_type": "markdown",
      "id": "d1f9cf18",
      "metadata": {
        "id": "d1f9cf18"
      },
      "source": [
        "## Entscheidungsvariablen"
      ]
    },
    {
      "cell_type": "code",
      "execution_count": null,
      "id": "f874ee25",
      "metadata": {
        "id": "f874ee25"
      },
      "outputs": [],
      "source": [
        "infinity = solver.infinity()"
      ]
    },
    {
      "cell_type": "code",
      "execution_count": null,
      "id": "afb847d3",
      "metadata": {
        "id": "afb847d3"
      },
      "outputs": [],
      "source": [
        "x={}\n",
        "for j in J: \n",
        "    x[j] = solver.NumVar(0.0, infinity, j)\n",
        "print('Anzahl Entscheidungsvariablen =', solver.NumVariables())"
      ]
    },
    {
      "cell_type": "markdown",
      "id": "b99b4ca0",
      "metadata": {
        "id": "b99b4ca0"
      },
      "source": [
        "## Parameter"
      ]
    },
    {
      "cell_type": "code",
      "execution_count": null,
      "id": "8c26d910",
      "metadata": {
        "id": "8c26d910"
      },
      "outputs": [],
      "source": [
        "c={} # Deckungsbeiträge\n",
        "c['P1']=10\n",
        "c['P2']=20"
      ]
    },
    {
      "cell_type": "code",
      "execution_count": null,
      "id": "4fe37ab3",
      "metadata": {
        "id": "4fe37ab3"
      },
      "outputs": [],
      "source": [
        "a={} # Produktionskoeffizienten\n",
        "a['Maschinen']={'P1':1,'P2':1}\n",
        "a['Rohstoffe']={'P1':6,'P2':9}\n",
        "a['Montage']={'P1':0,'P2':1}"
      ]
    },
    {
      "cell_type": "code",
      "execution_count": null,
      "id": "116263d8",
      "metadata": {
        "id": "116263d8"
      },
      "outputs": [],
      "source": [
        "b={} # Kapazitäten Produktionsfaktoren\n",
        "b['Maschinen']=100\n",
        "b['Rohstoffe']=720\n",
        "b['Montage']=60"
      ]
    },
    {
      "cell_type": "markdown",
      "id": "c9eede10",
      "metadata": {
        "id": "c9eede10"
      },
      "source": [
        "## Zielfunktion"
      ]
    },
    {
      "cell_type": "code",
      "execution_count": null,
      "id": "954d02bf",
      "metadata": {
        "id": "954d02bf"
      },
      "outputs": [],
      "source": [
        "solver.Maximize(sum(c[j]*x[j] for j in J))"
      ]
    },
    {
      "cell_type": "markdown",
      "id": "a8534816",
      "metadata": {
        "id": "a8534816"
      },
      "source": [
        "## Nebenbedingungen"
      ]
    },
    {
      "cell_type": "code",
      "execution_count": null,
      "id": "9accd7c3",
      "metadata": {
        "id": "9accd7c3"
      },
      "outputs": [],
      "source": [
        "for i in I:\n",
        "    solver.Add(sum(a[i][j]*x[j] for j in J)<=b[i])\n",
        "print('Anzahl Nebenbedingungen =', solver.NumConstraints())"
      ]
    },
    {
      "cell_type": "markdown",
      "id": "9a459618",
      "metadata": {
        "id": "9a459618"
      },
      "source": [
        "## Berechnung Lösung"
      ]
    },
    {
      "cell_type": "code",
      "execution_count": null,
      "id": "b9005832",
      "metadata": {
        "id": "b9005832"
      },
      "outputs": [],
      "source": [
        "status = solver.Solve()\n",
        "\n",
        "if status == pywraplp.Solver.OPTIMAL:\n",
        "    print('LÖSUNG:')\n",
        "    print('Zielfunktionswert (Deckungsbeitrag) =', solver.Objective().Value())\n",
        "    for j in J:\n",
        "        print(f'{j} =', round(x[j].solution_value()))\n",
        "else:\n",
        "    print('Problem hat keine Lösung')"
      ]
    },
    {
      "cell_type": "code",
      "execution_count": null,
      "id": "4d84da39",
      "metadata": {
        "id": "4d84da39"
      },
      "outputs": [],
      "source": [
        ""
      ]
    }
  ],
  "metadata": {
    "kernelspec": {
      "display_name": "Python 3 (ipykernel)",
      "language": "python",
      "name": "python3"
    },
    "language_info": {
      "codemirror_mode": {
        "name": "ipython",
        "version": 3
      },
      "file_extension": ".py",
      "mimetype": "text/x-python",
      "name": "python",
      "nbconvert_exporter": "python",
      "pygments_lexer": "ipython3",
      "version": "3.8.5"
    },
    "colab": {
      "name": "Produktionsprogrammplanung.ipynb",
      "provenance": [],
      "collapsed_sections": [],
      "include_colab_link": true
    }
  },
  "nbformat": 4,
  "nbformat_minor": 5
}